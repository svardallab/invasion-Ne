{
 "cells": [
  {
   "cell_type": "markdown",
   "id": "e7508033-a0db-4852-b624-f066bca5fb32",
   "metadata": {},
   "source": [
    "# Background\n",
    "\n",
    "In this notebook, I derive the equations I used to run the inference of the invasion Ne trajectory that reaches a certain carrying capacity. Specifically, I derive the survival probability $S(u)$ of no change in ancestry between two loci that are $u$ Morgans apart. "
   ]
  },
  {
   "cell_type": "code",
   "execution_count": 21,
   "id": "8604068c-71da-406e-9173-1dc7a61e84c5",
   "metadata": {},
   "outputs": [],
   "source": [
    "from sympy import *\n",
    "from IPython.display import display, Math\n",
    "init_printing()"
   ]
  },
  {
   "cell_type": "markdown",
   "id": "2030e70d-8a41-4376-9e1b-4924c13e7acb",
   "metadata": {},
   "source": [
    "First, we define the piecewise Ne trajectory of interest. "
   ]
  },
  {
   "cell_type": "code",
   "execution_count": 28,
   "id": "37a7d71f-03ca-4689-9ee2-d28058e3ba67",
   "metadata": {},
   "outputs": [
    {
     "data": {
      "text/latex": [
       "$\\displaystyle N_e(t) = \\begin{cases} Ne_{1} & \\text{for}\\: t \\leq t_{0} \\\\Ne_{1} e^{- \\alpha \\left(t - t_{0}\\right)} & \\text{for}\\: t \\leq t_{1} \\\\Ne_{2} & \\text{otherwise} \\end{cases}$"
      ],
      "text/plain": [
       "<IPython.core.display.Math object>"
      ]
     },
     "metadata": {},
     "output_type": "display_data"
    }
   ],
   "source": [
    "t, Ne1, Ne2, t0, t1, u = symbols('t Ne_1 Ne_2 t_0 t_1, u', positive=True)\n",
    "alpha = symbols('alpha')\n",
    "x = symbols('x')\n",
    "Ne = Piecewise((Ne1, t <= t0), (Ne1*exp(-alpha*(t-t0)), t<=t1), (Ne2, t>t0))\n",
    "founders = Ne.subs({t: t0})\n",
    "Ne\n",
    "display(Math(r\"N_e(t) = \" + latex(Ne)))"
   ]
  },
  {
   "cell_type": "markdown",
   "id": "18a39abe-280a-4d83-82c9-27fd43ea127e",
   "metadata": {},
   "source": [
    "First, we derive the TMRCA density for each piece:"
   ]
  },
  {
   "cell_type": "code",
   "execution_count": 31,
   "id": "bc98fb56-6fce-423d-a6b0-2ae928ca1d14",
   "metadata": {},
   "outputs": [
    {
     "data": {
      "text/latex": [
       "$\\displaystyle f_1(t) = \\frac{e^{- \\frac{t}{2 Ne_{1}}}}{2 Ne_{1}}$"
      ],
      "text/plain": [
       "<IPython.core.display.Math object>"
      ]
     },
     "metadata": {},
     "output_type": "display_data"
    }
   ],
   "source": [
    "gamma1 = 1 / (2*Ne1)\n",
    "Gamma1 = integrate(1 / (2*Ne1), (x, 0, t))\n",
    "tmrca1 = gamma1*exp(-Gamma1)\n",
    "display(Math(r\"f_1(t) = \" + latex(tmrca1)))"
   ]
  },
  {
   "cell_type": "code",
   "execution_count": 40,
   "id": "bd227af9-d55e-4b43-9fd9-da42754e8ab5",
   "metadata": {},
   "outputs": [
    {
     "data": {
      "text/latex": [
       "$\\displaystyle f_2(t) = \\frac{e^{\\alpha \\left(t - t_{0}\\right)} e^{- \\begin{cases} \\frac{\\alpha t_{0} + e^{\\alpha \\left(t - t_{0}\\right)} - 1}{2 Ne_{1} \\alpha} & \\text{for}\\: Ne_{1} \\alpha \\neq 0 \\\\\\frac{t}{2 Ne_{1}} & \\text{otherwise} \\end{cases}}}{2 Ne_{1}}$"
      ],
      "text/plain": [
       "<IPython.core.display.Math object>"
      ]
     },
     "metadata": {},
     "output_type": "display_data"
    }
   ],
   "source": [
    "gamma2 = exp(alpha*(t-t0)) / (2*Ne1)\n",
    "Gamma2 = simplify(Gamma1.subs({t : t0}) + integrate(exp(alpha*(x-t0)) / (2*Ne1), (x, t0, t)))\n",
    "tmrca2 = gamma2*exp(-Gamma2)\n",
    "display(Math(r\"f_2(t) = \" + latex(tmrca2)))"
   ]
  },
  {
   "cell_type": "code",
   "execution_count": 43,
   "id": "5041bc98-6972-445b-8110-e8edc0c06e78",
   "metadata": {},
   "outputs": [
    {
     "data": {
      "text/latex": [
       "$\\displaystyle f_3(t) = \\frac{e^{- \\begin{cases} \\frac{\\frac{t}{Ne_{2}} - \\frac{t_{1}}{Ne_{2}} + \\frac{t_{0}}{Ne_{1}} + \\frac{e^{\\alpha \\left(- t_{0} + t_{1}\\right)}}{Ne_{1} \\alpha} - \\frac{1}{Ne_{1} \\alpha}}{2} & \\text{for}\\: Ne_{1} \\alpha \\neq 0 \\\\\\frac{Ne_{1} \\left(t - t_{1}\\right) + Ne_{2} t_{1}}{2 Ne_{1} Ne_{2}} & \\text{otherwise} \\end{cases}}}{2 Ne_{2}}$"
      ],
      "text/plain": [
       "<IPython.core.display.Math object>"
      ]
     },
     "metadata": {},
     "output_type": "display_data"
    }
   ],
   "source": [
    "gamma3 = 1 / (2*Ne2)\n",
    "Gamma3 = simplify(Gamma2.subs({t : t1}) + integrate(1 / (2*Ne2), (x, t1, t)))\n",
    "tmrca3 = gamma3*exp(-Gamma3)\n",
    "display(Math(r\"f_3(t) = \" + latex(tmrca3)))"
   ]
  },
  {
   "cell_type": "markdown",
   "id": "20079804-b7af-4280-b641-8eef8a90ccab",
   "metadata": {},
   "source": [
    "If we ignore healing events, then the probability of no change in ancestry given that they coalesce $t$ generations ago:"
   ]
  },
  {
   "cell_type": "code",
   "execution_count": 45,
   "id": "7655dbd2-9be3-4a3b-9f9a-46ca576531cf",
   "metadata": {},
   "outputs": [
    {
     "data": {
      "text/latex": [
       "$\\displaystyle S_1(u, t) = \\frac{e^{- \\frac{t}{2 Ne_{1}}} e^{- 2 t u}}{2 Ne_{1}}$"
      ],
      "text/plain": [
       "<IPython.core.display.Math object>"
      ]
     },
     "metadata": {},
     "output_type": "display_data"
    },
    {
     "data": {
      "text/latex": [
       "$\\displaystyle S_2(u, t) = \\frac{e^{\\alpha \\left(t - t_{0}\\right)} e^{- 2 t u} e^{- \\begin{cases} \\frac{\\alpha t_{0} + e^{\\alpha \\left(t - t_{0}\\right)} - 1}{2 Ne_{1} \\alpha} & \\text{for}\\: Ne_{1} \\alpha \\neq 0 \\\\\\frac{t}{2 Ne_{1}} & \\text{otherwise} \\end{cases}}}{2 Ne_{1}}$"
      ],
      "text/plain": [
       "<IPython.core.display.Math object>"
      ]
     },
     "metadata": {},
     "output_type": "display_data"
    },
    {
     "data": {
      "text/latex": [
       "$\\displaystyle S_3(u, t) = \\frac{e^{- 2 t u} e^{- \\begin{cases} \\frac{\\frac{t}{Ne_{2}} - \\frac{t_{1}}{Ne_{2}} + \\frac{t_{0}}{Ne_{1}} + \\frac{e^{\\alpha \\left(- t_{0} + t_{1}\\right)}}{Ne_{1} \\alpha} - \\frac{1}{Ne_{1} \\alpha}}{2} & \\text{for}\\: Ne_{1} \\alpha \\neq 0 \\\\\\frac{Ne_{1} \\left(t - t_{1}\\right) + Ne_{2} t_{1}}{2 Ne_{1} Ne_{2}} & \\text{otherwise} \\end{cases}}}{2 Ne_{2}}$"
      ],
      "text/plain": [
       "<IPython.core.display.Math object>"
      ]
     },
     "metadata": {},
     "output_type": "display_data"
    }
   ],
   "source": [
    "piece1 = exp(-2*t*u) * tmrca1\n",
    "piece2 = exp(-2*t*u) * tmrca2\n",
    "piece3 = exp(-2*t*u) * tmrca3\n",
    "\n",
    "display(Math(r\"S_1(u, t) = \" + latex(piece1)))\n",
    "display(Math(r\"S_2(u, t) = \" + latex(piece2)))\n",
    "display(Math(r\"S_3(u, t) = \" + latex(piece3)))"
   ]
  },
  {
   "cell_type": "markdown",
   "id": "21d5fe57-a3ef-45d2-a22d-3bf6efd87414",
   "metadata": {},
   "source": [
    "The goal is to evaluate the function $S(u) = \\int_{0}^{t_0} S_1(u, t)\\, dt+ \\int_{t_0}^{t_1} S_2(u, t)\\, dt \\int_{t_0}^\\infty S_3(u, t)$. \n",
    "\n",
    "We can solve the first and second integrals analytically: "
   ]
  },
  {
   "cell_type": "code",
   "execution_count": 49,
   "id": "7601cbba-2d9d-4c82-b0a7-8db6ef0fabaf",
   "metadata": {},
   "outputs": [
    {
     "data": {
      "text/latex": [
       "$\\displaystyle \\int_{0}^{t_0} S_1(u, t)\\, dt = \\frac{\\left(e^{2 t_{0} u + \\frac{t_{0}}{2 Ne_{1}}} - 1\\right) e^{- 2 t_{0} u - \\frac{t_{0}}{2 Ne_{1}}}}{4 Ne_{1} u + 1}$"
      ],
      "text/plain": [
       "<IPython.core.display.Math object>"
      ]
     },
     "metadata": {},
     "output_type": "display_data"
    }
   ],
   "source": [
    "integral1 = integrate(piece1, (t, 0, t0)).simplify()\n",
    "display(Math(r\"\\int_{0}^{t_0} S_1(u, t)\\, dt = \" + latex(integral1)))"
   ]
  },
  {
   "cell_type": "code",
   "execution_count": 52,
   "id": "e43aa635-c06a-407e-b0e7-4c1140a43771",
   "metadata": {},
   "outputs": [
    {
     "data": {
      "text/latex": [
       "$\\displaystyle \\int_{t_0}^\\infty S_3(u, t) = \\begin{cases} \\frac{e^{- 2 t_{1} u - \\frac{t_{0}}{2 Ne_{1}} - \\frac{e^{\\alpha \\left(- t_{0} + t_{1}\\right)}}{2 Ne_{1} \\alpha} + \\frac{1}{2 Ne_{1} \\alpha}}}{4 Ne_{2} u + 1} & \\text{for}\\: Ne_{1} \\alpha \\neq 0 \\\\\\frac{e^{- 2 t_{1} u - \\frac{t_{1}}{2 Ne_{1}}}}{4 Ne_{2} u + 1} & \\text{otherwise} \\end{cases}$"
      ],
      "text/plain": [
       "<IPython.core.display.Math object>"
      ]
     },
     "metadata": {},
     "output_type": "display_data"
    }
   ],
   "source": [
    "integral3 = integrate(piece3, (t, t1, oo)).simplify()\n",
    "display(Math(r\"\\int_{t_0}^\\infty S_3(u, t) = \" + latex(integral3)))"
   ]
  },
  {
   "cell_type": "markdown",
   "id": "cb39acb5-14b0-472b-82b7-9fa5c5b512b9",
   "metadata": {},
   "source": [
    "To avoid overflow, we will also evaluate the third integral when alpha is very close to zero as:"
   ]
  },
  {
   "cell_type": "code",
   "execution_count": 72,
   "id": "2173bb66-06bf-48da-be13-5514fccd2457",
   "metadata": {},
   "outputs": [
    {
     "data": {
      "image/png": "[encoded data removed]",
      "text/latex": [
       "$\\displaystyle \\frac{e^{\\frac{- 4 Ne_{1} \\alpha_{2} t_{1} u - \\alpha_{2} t_{0} - e^{\\alpha_{2} \\left(- t_{0} + t_{1}\\right)} + 1}{2 Ne_{1} \\alpha_{2}}}}{4 Ne_{2} u + 1}$"
      ],
      "text/plain": [
       "                           α₂⋅(-t₀ + t₁)    \n",
       " -4⋅Ne₁⋅α₂⋅t₁⋅u - α₂⋅t₀ - ℯ              + 1\n",
       " ───────────────────────────────────────────\n",
       "                  2⋅Ne₁⋅α₂                  \n",
       "ℯ                                           \n",
       "────────────────────────────────────────────\n",
       "                4⋅Ne₂⋅u + 1                 "
      ]
     },
     "execution_count": 72,
     "metadata": {},
     "output_type": "execute_result"
    }
   ],
   "source": [
    "alpha2 = symbols('alpha2', nonzero=True)\n",
    "integral3.subs({alpha: alpha2}).simplify()"
   ]
  },
  {
   "cell_type": "code",
   "execution_count": 73,
   "id": "2eb7c393-1b9b-4799-a659-cfe8bd143949",
   "metadata": {},
   "outputs": [
    {
     "data": {
      "image/png": "[encoded data removed]",
      "text/latex": [
       "$\\displaystyle \\frac{\\left(Ne_{1} - \\frac{\\alpha \\left(t_{0}^{2} - 2 t_{0} t_{1} + t_{1}^{2}\\right)}{4}\\right) e^{- \\frac{t_{1} \\left(4 Ne_{1} u + 1\\right)}{2 Ne_{1}}}}{Ne_{1} \\left(4 Ne_{2} u + 1\\right)}$"
      ],
      "text/plain": [
       "                                 -t₁⋅(4⋅Ne₁⋅u + 1) \n",
       "⎛        ⎛  2               2⎞⎞  ──────────────────\n",
       "⎜      α⋅⎝t₀  - 2⋅t₀⋅t₁ + t₁ ⎠⎟        2⋅Ne₁       \n",
       "⎜Ne₁ - ───────────────────────⎟⋅ℯ                  \n",
       "⎝                 4           ⎠                    \n",
       "───────────────────────────────────────────────────\n",
       "                 Ne₁⋅(4⋅Ne₂⋅u + 1)                 "
      ]
     },
     "execution_count": 73,
     "metadata": {},
     "output_type": "execute_result"
    }
   ],
   "source": [
    "simplify(series(integral3, alpha, 0, 2).removeO())"
   ]
  },
  {
   "cell_type": "code",
   "execution_count": null,
   "id": "28f4eb72-087b-4623-91c1-3346a7c9ed51",
   "metadata": {},
   "outputs": [],
   "source": [
    "inner1 = alpha*(t0**2-2*t0*t1+t1**2) / 4\n",
    "((Ne1 - inner1) * np.exp(-(t1*(4*Ne1*u+1)) / (2*Ne1))) / (Ne1*(4*Ne2*u+1))"
   ]
  },
  {
   "cell_type": "markdown",
   "id": "d291fac9-3d7f-4b5a-b4fb-cbca5ab610cb",
   "metadata": {},
   "source": [
    "We will use Gaussian quadrature rules to approximate the second integral: "
   ]
  },
  {
   "cell_type": "code",
   "execution_count": 66,
   "id": "61586aa9-c023-44b9-a023-7778b9d036ca",
   "metadata": {},
   "outputs": [
    {
     "data": {
      "image/png": "[encoded data removed]",
      "text/latex": [
       "$\\displaystyle \\frac{\\left(4 Ne_{1} - \\alpha \\left(4 Ne_{1} \\left(- t + t_{0}\\right) + t^{2} - 2 t t_{0} + t_{0}^{2}\\right)\\right) e^{- \\frac{t \\left(4 Ne_{1} u + 1\\right)}{2 Ne_{1}}}}{8 Ne_{1}^{2}}$"
      ],
      "text/plain": [
       "                                                   -t⋅(4⋅Ne₁⋅u + 1) \n",
       "                                                   ─────────────────\n",
       "⎛          ⎛                   2              2⎞⎞        2⋅Ne₁      \n",
       "⎝4⋅Ne₁ - α⋅⎝4⋅Ne₁⋅(-t + t₀) + t  - 2⋅t⋅t₀ + t₀ ⎠⎠⋅ℯ                 \n",
       "────────────────────────────────────────────────────────────────────\n",
       "                                    2                               \n",
       "                               8⋅Ne₁                                "
      ]
     },
     "execution_count": 66,
     "metadata": {},
     "output_type": "execute_result"
    }
   ],
   "source": [
    "series(piece2, alpha, 0, 2).removeO().simplify()\n",
    "((4*Ne1-alpha*(4*Ne1*(t0-t)+t**2-2*t*t0+t0**2))*np.exp((-t*(4*Ne1*u+1)) / (2*Ne1))) / (8*Ne1**2)"
   ]
  },
  {
   "cell_type": "code",
   "execution_count": 68,
   "id": "e14b25ba-68e0-466e-aae2-bebf19596365",
   "metadata": {},
   "outputs": [
    {
     "data": {
      "text/latex": [
       "$\\displaystyle \\begin{cases} \\frac{e^{\\frac{2 Ne_{1} \\alpha \\left(\\alpha \\left(t - t_{0}\\right) - 2 t u\\right) - \\alpha t_{0} - e^{\\alpha \\left(t - t_{0}\\right)} + 1}{2 Ne_{1} \\alpha}}}{2 Ne_{1}} & \\text{for}\\: Ne_{1} \\alpha \\neq 0 \\\\\\frac{e^{\\frac{2 Ne_{1} \\left(\\alpha \\left(t - t_{0}\\right) - 2 t u\\right) - t}{2 Ne_{1}}}}{2 Ne_{1}} & \\text{otherwise} \\end{cases}$"
      ],
      "text/plain": [
       "⎧                                        α⋅(t - t₀)                   \n",
       "⎪ 2⋅Ne₁⋅α⋅(α⋅(t - t₀) - 2⋅t⋅u) - α⋅t₀ - ℯ           + 1               \n",
       "⎪ ─────────────────────────────────────────────────────               \n",
       "⎪                        2⋅Ne₁⋅α                                      \n",
       "⎪ℯ                                                                    \n",
       "⎪──────────────────────────────────────────────────────  for Ne₁⋅α ≠ 0\n",
       "⎪                        2⋅Ne₁                                        \n",
       "⎨                                                                     \n",
       "⎪            2⋅Ne₁⋅(α⋅(t - t₀) - 2⋅t⋅u) - t                           \n",
       "⎪            ──────────────────────────────                           \n",
       "⎪                        2⋅Ne₁                                        \n",
       "⎪           ℯ                                                         \n",
       "⎪           ───────────────────────────────                otherwise  \n",
       "⎪                        2⋅Ne₁                                        \n",
       "⎩                                                                     "
      ]
     },
     "execution_count": 68,
     "metadata": {},
     "output_type": "execute_result"
    }
   ],
   "source": [
    "piece2.simplify()"
   ]
  }
 ],
 "metadata": {
  "kernelspec": {
   "display_name": "Python 3 (ipykernel)",
   "language": "python",
   "name": "python3"
  },
  "language_info": {
   "codemirror_mode": {
    "name": "ipython",
    "version": 3
   },
   "file_extension": ".py",
   "mimetype": "text/x-python",
   "name": "python",
   "nbconvert_exporter": "python",
   "pygments_lexer": "ipython3",
   "version": "3.12.10"
  }
 },
 "nbformat": 4,
 "nbformat_minor": 5
}
