{
 "cells": [
  {
   "cell_type": "markdown",
   "id": "e7508033-a0db-4852-b624-f066bca5fb32",
   "metadata": {},
   "source": [
    "# Background\n",
    "\n",
    "In this notebook, I derive the equations I used to run the inference of the invasion Ne trajectory that reaches a certain carrying capacity. Specifically, I derive the survival probability $S(u)$ of no change in ancestry between two loci that are $u$ Morgans apart. "
   ]
  },
  {
   "cell_type": "code",
   "execution_count": 1,
   "id": "8604068c-71da-406e-9173-1dc7a61e84c5",
   "metadata": {},
   "outputs": [],
   "source": [
    "from sympy import *\n",
    "from IPython.display import display, Math\n",
    "init_printing()"
   ]
  },
  {
   "cell_type": "markdown",
   "id": "2030e70d-8a41-4376-9e1b-4924c13e7acb",
   "metadata": {},
   "source": [
    "First, we define the piecewise Ne trajectory of interest. "
   ]
  },
  {
   "cell_type": "code",
   "execution_count": 7,
   "id": "37a7d71f-03ca-4689-9ee2-d28058e3ba67",
   "metadata": {},
   "outputs": [
    {
     "data": {
      "text/latex": [
       "$\\displaystyle N_e(t) = \\begin{cases} Ne_{1} & \\text{for}\\: t \\leq t_{0} \\\\Ne_{1} e^{- \\alpha \\left(t - t_{0}\\right)} & \\text{for}\\: t \\leq t_{1} \\\\Ne_{2} & \\text{otherwise} \\end{cases}$"
      ],
      "text/plain": [
       "<IPython.core.display.Math object>"
      ]
     },
     "metadata": {},
     "output_type": "display_data"
    }
   ],
   "source": [
    "t, Ne1, Ne2, t0, t1, u = symbols('t Ne_1 Ne_2 t_0 t_1, u', positive=True)\n",
    "alpha = symbols('alpha', nonzero=True)\n",
    "x = symbols('x')\n",
    "Ne = Piecewise((Ne1, t <= t0), (Ne1*exp(-alpha*(t-t0)), t<=t1), (Ne2, t>t0))\n",
    "founders = Ne.subs({t: t0})\n",
    "display(Math(r\"N_e(t) = \" + latex(Ne)))"
   ]
  },
  {
   "cell_type": "markdown",
   "id": "18a39abe-280a-4d83-82c9-27fd43ea127e",
   "metadata": {},
   "source": [
    "First, we derive the TMRCA density for each piece:"
   ]
  },
  {
   "cell_type": "code",
   "execution_count": 9,
   "id": "bc98fb56-6fce-423d-a6b0-2ae928ca1d14",
   "metadata": {},
   "outputs": [
    {
     "data": {
      "text/latex": [
       "$\\displaystyle f_1(t) = \\frac{e^{- \\frac{t}{2 Ne_{1}}}}{2 Ne_{1}}$"
      ],
      "text/plain": [
       "<IPython.core.display.Math object>"
      ]
     },
     "metadata": {},
     "output_type": "display_data"
    }
   ],
   "source": [
    "gamma1 = 1 / (2*Ne1)\n",
    "Gamma1 = integrate(1 / (2*Ne1), (x, 0, t))\n",
    "tmrca1 = gamma1*exp(-Gamma1)\n",
    "display(Math(r\"f_1(t) = \" + latex(tmrca1)))"
   ]
  },
  {
   "cell_type": "code",
   "execution_count": 10,
   "id": "bd227af9-d55e-4b43-9fd9-da42754e8ab5",
   "metadata": {},
   "outputs": [
    {
     "data": {
      "text/latex": [
       "$\\displaystyle f_2(t) = \\frac{e^{\\alpha \\left(t - t_{0}\\right)} e^{- \\frac{\\alpha t_{0} + e^{\\alpha \\left(t - t_{0}\\right)} - 1}{2 Ne_{1} \\alpha}}}{2 Ne_{1}}$"
      ],
      "text/plain": [
       "<IPython.core.display.Math object>"
      ]
     },
     "metadata": {},
     "output_type": "display_data"
    }
   ],
   "source": [
    "gamma2 = exp(alpha*(t-t0)) / (2*Ne1)\n",
    "Gamma2 = simplify(Gamma1.subs({t : t0}) + integrate(exp(alpha*(x-t0)) / (2*Ne1), (x, t0, t)))\n",
    "tmrca2 = gamma2*exp(-Gamma2)\n",
    "display(Math(r\"f_2(t) = \" + latex(tmrca2)))"
   ]
  },
  {
   "cell_type": "code",
   "execution_count": 13,
   "id": "5041bc98-6972-445b-8110-e8edc0c06e78",
   "metadata": {},
   "outputs": [
    {
     "data": {
      "text/latex": [
       "$\\displaystyle f_3(t) = \\frac{e^{- \\frac{t}{2 Ne_{2}} + \\frac{t_{1}}{2 Ne_{2}} - \\frac{t_{0}}{2 Ne_{1}} - \\frac{e^{- \\alpha t_{0} + \\alpha t_{1}}}{2 Ne_{1} \\alpha} + \\frac{1}{2 Ne_{1} \\alpha}}}{2 Ne_{2}}$"
      ],
      "text/plain": [
       "<IPython.core.display.Math object>"
      ]
     },
     "metadata": {},
     "output_type": "display_data"
    }
   ],
   "source": [
    "gamma3 = 1 / (2*Ne2)\n",
    "Gamma3 = simplify(Gamma2.subs({t : t1}) + integrate(1 / (2*Ne2), (x, t1, t)))\n",
    "tmrca3 = gamma3*exp(-Gamma3)\n",
    "display(Math(r\"f_3(t) = \" + latex(tmrca3)))"
   ]
  },
  {
   "cell_type": "markdown",
   "id": "20079804-b7af-4280-b641-8eef8a90ccab",
   "metadata": {},
   "source": [
    "If we ignore healing events, then the probability of no change in ancestry given that they coalesce $t$ generations ago:"
   ]
  },
  {
   "cell_type": "code",
   "execution_count": 14,
   "id": "7655dbd2-9be3-4a3b-9f9a-46ca576531cf",
   "metadata": {},
   "outputs": [
    {
     "data": {
      "text/latex": [
       "$\\displaystyle S_1(u, t) = \\frac{e^{- \\frac{t}{2 Ne_{1}}} e^{- 2 t u}}{2 Ne_{1}}$"
      ],
      "text/plain": [
       "<IPython.core.display.Math object>"
      ]
     },
     "metadata": {},
     "output_type": "display_data"
    },
    {
     "data": {
      "text/latex": [
       "$\\displaystyle S_2(u, t) = \\frac{e^{\\alpha \\left(t - t_{0}\\right)} e^{- 2 t u} e^{- \\frac{\\alpha t_{0} + e^{\\alpha \\left(t - t_{0}\\right)} - 1}{2 Ne_{1} \\alpha}}}{2 Ne_{1}}$"
      ],
      "text/plain": [
       "<IPython.core.display.Math object>"
      ]
     },
     "metadata": {},
     "output_type": "display_data"
    },
    {
     "data": {
      "text/latex": [
       "$\\displaystyle S_3(u, t) = \\frac{e^{- 2 t u} e^{- \\frac{t}{2 Ne_{2}} + \\frac{t_{1}}{2 Ne_{2}} - \\frac{t_{0}}{2 Ne_{1}} - \\frac{e^{- \\alpha t_{0} + \\alpha t_{1}}}{2 Ne_{1} \\alpha} + \\frac{1}{2 Ne_{1} \\alpha}}}{2 Ne_{2}}$"
      ],
      "text/plain": [
       "<IPython.core.display.Math object>"
      ]
     },
     "metadata": {},
     "output_type": "display_data"
    }
   ],
   "source": [
    "piece1 = exp(-2*t*u) * tmrca1\n",
    "piece2 = exp(-2*t*u) * tmrca2\n",
    "piece3 = exp(-2*t*u) * tmrca3\n",
    "\n",
    "display(Math(r\"S_1(u, t) = \" + latex(piece1)))\n",
    "display(Math(r\"S_2(u, t) = \" + latex(piece2)))\n",
    "display(Math(r\"S_3(u, t) = \" + latex(piece3)))"
   ]
  },
  {
   "cell_type": "markdown",
   "id": "21d5fe57-a3ef-45d2-a22d-3bf6efd87414",
   "metadata": {},
   "source": [
    "The goal is to evaluate the function $S(u) = \\int_{0}^{t_0} S_1(u, t)\\, dt+ \\int_{t_0}^{t_1} S_2(u, t)\\, dt \\int_{t_0}^\\infty S_3(u, t)$. \n",
    "\n",
    "We can solve the first and second integrals analytically: "
   ]
  },
  {
   "cell_type": "code",
   "execution_count": 15,
   "id": "7601cbba-2d9d-4c82-b0a7-8db6ef0fabaf",
   "metadata": {},
   "outputs": [
    {
     "data": {
      "text/latex": [
       "$\\displaystyle \\int_{0}^{t_0} S_1(u, t)\\, dt = \\frac{\\left(e^{2 t_{0} u + \\frac{t_{0}}{2 Ne_{1}}} - 1\\right) e^{- 2 t_{0} u - \\frac{t_{0}}{2 Ne_{1}}}}{4 Ne_{1} u + 1}$"
      ],
      "text/plain": [
       "<IPython.core.display.Math object>"
      ]
     },
     "metadata": {},
     "output_type": "display_data"
    }
   ],
   "source": [
    "integral1 = integrate(piece1, (t, 0, t0)).simplify()\n",
    "display(Math(r\"\\int_{0}^{t_0} S_1(u, t)\\, dt = \" + latex(integral1)))"
   ]
  },
  {
   "cell_type": "code",
   "execution_count": 16,
   "id": "e43aa635-c06a-407e-b0e7-4c1140a43771",
   "metadata": {},
   "outputs": [
    {
     "data": {
      "text/latex": [
       "$\\displaystyle \\int_{t_0}^\\infty S_3(u, t) = \\frac{e^{- 2 t_{1} u - \\frac{t_{0}}{2 Ne_{1}} - \\frac{e^{\\alpha \\left(- t_{0} + t_{1}\\right)}}{2 Ne_{1} \\alpha} + \\frac{1}{2 Ne_{1} \\alpha}}}{4 Ne_{2} u + 1}$"
      ],
      "text/plain": [
       "<IPython.core.display.Math object>"
      ]
     },
     "metadata": {},
     "output_type": "display_data"
    }
   ],
   "source": [
    "integral3 = integrate(piece3, (t, t1, oo)).simplify()\n",
    "display(Math(r\"\\int_{t_0}^\\infty S_3(u, t) = \" + latex(integral3)))"
   ]
  },
  {
   "cell_type": "markdown",
   "id": "cb39acb5-14b0-472b-82b7-9fa5c5b512b9",
   "metadata": {},
   "source": [
    "To avoid overflow, we will also evaluate the third integral when alpha is very close to zero as:"
   ]
  },
  {
   "cell_type": "code",
   "execution_count": 23,
   "id": "4f0a079b-98d2-4ed8-a9db-fc6f62367b47",
   "metadata": {},
   "outputs": [
    {
     "data": {
      "text/latex": [
       "$\\displaystyle \\text{Value as } \\alpha \\to 0: \\quad \\int_{t_0}^\\infty S_3(u, t)\\,dt \\approx \\frac{\\left(Ne_{1} + \\frac{\\alpha \\left(- t_{0}^{2} + 2 t_{0} t_{1} - t_{1}^{2}\\right)}{4}\\right) e^{- \\frac{t_{1} \\left(4 Ne_{1} u + 1\\right)}{2 Ne_{1}}}}{Ne_{1} \\left(4 Ne_{2} u + 1\\right)}$"
      ],
      "text/plain": [
       "<IPython.core.display.Math object>"
      ]
     },
     "metadata": {},
     "output_type": "display_data"
    }
   ],
   "source": [
    "piece3_nearzero =  series(piece3, alpha, 0, 2).removeO().simplify()\n",
    "integral3_nearzero = integrate(piece3_nearzero, (t, t1, oo)).simplify()\n",
    "display(Math(r\"\\text{Value as } \\alpha \\to 0: \\quad \\int_{t_0}^\\infty S_3(u, t)\\,dt \\approx \" + latex(integral3_nearzero)))"
   ]
  },
  {
   "cell_type": "markdown",
   "id": "d291fac9-3d7f-4b5a-b4fb-cbca5ab610cb",
   "metadata": {},
   "source": [
    "We will use Gaussian quadrature rules to approximate the second integral: "
   ]
  },
  {
   "cell_type": "code",
   "execution_count": 28,
   "id": "0269f65e-b83d-414b-9412-fb63a57edae6",
   "metadata": {},
   "outputs": [
    {
     "data": {
      "image/png": "[encoded data removed]",
      "text/latex": [
       "$\\displaystyle \\frac{e^{\\alpha \\left(t - t_{0}\\right) - 2 t u + \\frac{- \\alpha t_{0} - e^{\\alpha \\left(t - t_{0}\\right)} + 1}{2 Ne_{1} \\alpha}}}{2 Ne_{1}}$"
      ],
      "text/plain": [
       "                               α⋅(t - t₀)    \n",
       "                      -α⋅t₀ - ℯ           + 1\n",
       " α⋅(t - t₀) - 2⋅t⋅u + ───────────────────────\n",
       "                              2⋅Ne₁⋅α        \n",
       "ℯ                                            \n",
       "─────────────────────────────────────────────\n",
       "                    2⋅Ne₁                    "
      ]
     },
     "execution_count": 28,
     "metadata": {},
     "output_type": "execute_result"
    }
   ],
   "source": [
    "simplify(piece2)"
   ]
  },
  {
   "cell_type": "code",
   "execution_count": 32,
   "id": "3cb3d061-252a-472a-9a5e-ae19d7c2662d",
   "metadata": {},
   "outputs": [
    {
     "data": {
      "image/png": "[encoded data removed]",
      "text/latex": [
       "$\\displaystyle \\frac{\\left(4 Ne_{1} - \\alpha \\left(4 Ne_{1} \\left(- t + t_{0}\\right) + t^{2} - 2 t t_{0} + t_{0}^{2}\\right)\\right) e^{- \\frac{t \\left(4 Ne_{1} u + 1\\right)}{2 Ne_{1}}}}{8 Ne_{1}^{2}}$"
      ],
      "text/plain": [
       "                                                   -t⋅(4⋅Ne₁⋅u + 1) \n",
       "                                                   ─────────────────\n",
       "⎛          ⎛                   2              2⎞⎞        2⋅Ne₁      \n",
       "⎝4⋅Ne₁ - α⋅⎝4⋅Ne₁⋅(-t + t₀) + t  - 2⋅t⋅t₀ + t₀ ⎠⎠⋅ℯ                 \n",
       "────────────────────────────────────────────────────────────────────\n",
       "                                    2                               \n",
       "                               8⋅Ne₁                                "
      ]
     },
     "execution_count": 32,
     "metadata": {},
     "output_type": "execute_result"
    }
   ],
   "source": [
    "series(piece2, alpha, 0, 2).removeO().simplify()"
   ]
  },
  {
   "cell_type": "markdown",
   "id": "84c905af-9cac-455f-b636-8f555046c023",
   "metadata": {},
   "source": [
    "Finally, we numerically integrate: \n",
    "\n",
    "$S_b(u_i, u_j) = \\int_{u_i}^{u_j}\\, \\int_{0}^{t_0} S_1(v, t)\\, dt+  \\int_{t_0}^{t_1} S_2(v, t)\\, dt + \\int_{t_1}^\\infty S_3(v, t)\\,dt dv$"
   ]
  }
 ],
 "metadata": {
  "kernelspec": {
   "display_name": "Python 3 (ipykernel)",
   "language": "python",
   "name": "python3"
  },
  "language_info": {
   "codemirror_mode": {
    "name": "ipython",
    "version": 3
   },
   "file_extension": ".py",
   "mimetype": "text/x-python",
   "name": "python",
   "nbconvert_exporter": "python",
   "pygments_lexer": "ipython3",
   "version": "3.12.10"
  }
 },
 "nbformat": 4,
 "nbformat_minor": 5
}
