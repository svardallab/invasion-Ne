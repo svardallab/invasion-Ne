{
 "cells": [
  {
   "cell_type": "markdown",
   "id": "e7508033-a0db-4852-b624-f066bca5fb32",
   "metadata": {},
   "source": [
    "# Background\n",
    "\n",
    "In this notebook, I derive the equations I used to run the inference of the invasion Ne trajectory. Specifically, I derive the survival probability $S(u)$ of no change in ancestry between two loci that are $u$ Morgans apart. "
   ]
  },
  {
   "cell_type": "code",
   "execution_count": 6,
   "id": "8604068c-71da-406e-9173-1dc7a61e84c5",
   "metadata": {},
   "outputs": [],
   "source": [
    "from sympy import *\n",
    "from IPython.display import display, Math\n",
    "init_printing()"
   ]
  },
  {
   "cell_type": "markdown",
   "id": "2030e70d-8a41-4376-9e1b-4924c13e7acb",
   "metadata": {},
   "source": [
    "First, we define the piecewise Ne trajectory of interest. "
   ]
  },
  {
   "cell_type": "code",
   "execution_count": 7,
   "id": "37a7d71f-03ca-4689-9ee2-d28058e3ba67",
   "metadata": {},
   "outputs": [
    {
     "data": {
      "text/latex": [
       "$\\displaystyle \\begin{cases} Ne_{1} e^{- \\alpha t} & \\text{for}\\: t \\leq t_{0} \\\\Ne_{2} & \\text{otherwise} \\end{cases}$"
      ],
      "text/plain": [
       "⎧     -α⋅t            \n",
       "⎪Ne₁⋅ℯ      for t ≤ t₀\n",
       "⎨                     \n",
       "⎪   Ne₂     otherwise \n",
       "⎩                     "
      ]
     },
     "execution_count": 7,
     "metadata": {},
     "output_type": "execute_result"
    }
   ],
   "source": [
    "t, Ne1, Ne2, t0, u = symbols('t Ne_1 Ne_2 t_0 u', positive=True)\n",
    "alpha = symbols('alpha')\n",
    "x = symbols('x')\n",
    "Ne = Piecewise((Ne1*exp(-alpha*t), t <= t0), (Ne2, t>t0))\n",
    "founders = Ne.subs({t: t0})\n",
    "Ne"
   ]
  },
  {
   "cell_type": "markdown",
   "id": "18a39abe-280a-4d83-82c9-27fd43ea127e",
   "metadata": {},
   "source": [
    "First, we derive the TMRCA density for the first piece: "
   ]
  },
  {
   "cell_type": "code",
   "execution_count": 8,
   "id": "bc98fb56-6fce-423d-a6b0-2ae928ca1d14",
   "metadata": {},
   "outputs": [
    {
     "data": {
      "text/latex": [
       "$\\displaystyle f_1(t) = \\frac{e^{\\alpha t} e^{- \\begin{cases} \\frac{e^{\\alpha t}}{2 Ne_{1} \\alpha} - \\frac{1}{2 Ne_{1} \\alpha} & \\text{for}\\: Ne_{1} \\alpha \\neq 0 \\\\\\frac{t}{2 Ne_{1}} & \\text{otherwise} \\end{cases}}}{2 Ne_{1}}$"
      ],
      "text/plain": [
       "<IPython.core.display.Math object>"
      ]
     },
     "metadata": {},
     "output_type": "display_data"
    }
   ],
   "source": [
    "gamma1 = exp(alpha*t) / (2*Ne1)\n",
    "Gamma1 = integrate(exp(alpha*x) / (2*Ne1), (x, 0, t))\n",
    "tmrca1 = gamma1*exp(-Gamma1)\n",
    "display(Math(r\"f_1(t) = \" + latex(tmrca1)))"
   ]
  },
  {
   "cell_type": "markdown",
   "id": "20079804-b7af-4280-b641-8eef8a90ccab",
   "metadata": {},
   "source": [
    "If we ignore healing events, then the probability of no change in ancestry given that they coalesce $t$ generations ago:"
   ]
  },
  {
   "cell_type": "code",
   "execution_count": 9,
   "id": "7655dbd2-9be3-4a3b-9f9a-46ca576531cf",
   "metadata": {},
   "outputs": [
    {
     "data": {
      "text/latex": [
       "$\\displaystyle S_1(u, t) = \\frac{e^{\\alpha t} e^{- 2 t u} e^{- \\begin{cases} \\frac{e^{\\alpha t}}{2 Ne_{1} \\alpha} - \\frac{1}{2 Ne_{1} \\alpha} & \\text{for}\\: Ne_{1} \\alpha \\neq 0 \\\\\\frac{t}{2 Ne_{1}} & \\text{otherwise} \\end{cases}}}{2 Ne_{1}}$"
      ],
      "text/plain": [
       "<IPython.core.display.Math object>"
      ]
     },
     "metadata": {},
     "output_type": "display_data"
    }
   ],
   "source": [
    "piece1 = exp(-2*t*u) * tmrca1\n",
    "display(Math(r\"S_1(u, t) = \" + latex(piece1)))"
   ]
  },
  {
   "cell_type": "markdown",
   "id": "e35b4f00-02d7-417b-8098-3088357a185b",
   "metadata": {},
   "source": [
    "We will use Gaussian quadrature rules to approximate the integral $S_1(u) = \\int_0^{t_0} S_1(u, t)\\,dt$. To avoid overflow, we will also evaluate the integral when alpha is very close to zero as:"
   ]
  },
  {
   "cell_type": "code",
   "execution_count": 10,
   "id": "65cdd8f6-e7f2-4e6e-a422-5990c4894acc",
   "metadata": {},
   "outputs": [
    {
     "data": {
      "image/png": "[encoded data removed]",
      "text/latex": [
       "$\\displaystyle \\alpha \\left(\\frac{t e^{- \\frac{t}{2 Ne_{1}}} e^{- 2 t u}}{2 Ne_{1}} - \\frac{t^{2} e^{- \\frac{t}{2 Ne_{1}}} e^{- 2 t u}}{8 Ne_{1}^{2}}\\right) + \\frac{e^{- \\frac{t}{2 Ne_{1}}} e^{- 2 t u}}{2 Ne_{1}}$"
      ],
      "text/plain": [
       "  ⎛    -t                  -t          ⎞     -t          \n",
       "  ⎜   ─────               ─────        ⎟    ─────        \n",
       "  ⎜   2⋅Ne₁  -2⋅t⋅u    2  2⋅Ne₁  -2⋅t⋅u⎟    2⋅Ne₁  -2⋅t⋅u\n",
       "  ⎜t⋅ℯ     ⋅ℯ         t ⋅ℯ     ⋅ℯ      ⎟   ℯ     ⋅ℯ      \n",
       "α⋅⎜──────────────── - ─────────────────⎟ + ──────────────\n",
       "  ⎜     2⋅Ne₁                   2      ⎟       2⋅Ne₁     \n",
       "  ⎝                        8⋅Ne₁       ⎠                 "
      ]
     },
     "execution_count": 10,
     "metadata": {},
     "output_type": "execute_result"
    }
   ],
   "source": [
    "series(piece1, alpha, 0, 2).removeO()  "
   ]
  },
  {
   "cell_type": "markdown",
   "id": "0c64f8d7-99bf-4693-b879-24445b385dc9",
   "metadata": {},
   "source": [
    "Next, we derive the $S_2(u, t)$ for the second piece:"
   ]
  },
  {
   "cell_type": "code",
   "execution_count": 17,
   "id": "a3478fe6-cf90-448c-a965-be4ca54e27e0",
   "metadata": {},
   "outputs": [
    {
     "data": {
      "text/latex": [
       "$\\displaystyle f_2(t) = \\frac{e^{- \\begin{cases} \\frac{Ne_{1} \\alpha \\left(t - t_{0}\\right) - Ne_{2} \\left(1 - e^{\\alpha t_{0}}\\right)}{2 Ne_{1} Ne_{2} \\alpha} & \\text{for}\\: Ne_{1} \\alpha \\neq 0 \\\\\\frac{Ne_{1} \\left(t - t_{0}\\right) + Ne_{2} t_{0}}{2 Ne_{1} Ne_{2}} & \\text{otherwise} \\end{cases}}}{2 Ne_{2}}$"
      ],
      "text/plain": [
       "<IPython.core.display.Math object>"
      ]
     },
     "metadata": {},
     "output_type": "display_data"
    }
   ],
   "source": [
    "gamma2 = 1 / (2*Ne2)\n",
    "Gamma2 = (Gamma1.subs({t: t0})+ integrate(1 / (2*Ne2), (x, t0, t))).simplify()\n",
    "tmrca2 = gamma2*exp(-Gamma2)\n",
    "display(Math(r\"f_2(t) = \" + latex(tmrca2)))"
   ]
  },
  {
   "cell_type": "code",
   "execution_count": 18,
   "id": "acd0edb6-17af-49a8-b09b-9c7585706be9",
   "metadata": {},
   "outputs": [
    {
     "data": {
      "text/latex": [
       "$\\displaystyle S_2(u, t) = \\frac{e^{- 2 t u} e^{- \\begin{cases} \\frac{Ne_{1} \\alpha \\left(t - t_{0}\\right) - Ne_{2} \\left(1 - e^{\\alpha t_{0}}\\right)}{2 Ne_{1} Ne_{2} \\alpha} & \\text{for}\\: Ne_{1} \\alpha \\neq 0 \\\\\\frac{Ne_{1} \\left(t - t_{0}\\right) + Ne_{2} t_{0}}{2 Ne_{1} Ne_{2}} & \\text{otherwise} \\end{cases}}}{2 Ne_{2}}$"
      ],
      "text/plain": [
       "<IPython.core.display.Math object>"
      ]
     },
     "metadata": {},
     "output_type": "display_data"
    }
   ],
   "source": [
    "piece2 = exp(-2*t*u) * tmrca2\n",
    "display(Math(r\"S_2(u, t) = \" + latex(piece2)))"
   ]
  },
  {
   "cell_type": "markdown",
   "id": "a827a6cd-d5ac-40fb-9ca3-357e7e0b74fb",
   "metadata": {},
   "source": [
    "Finally, we numerically integrate: \n",
    "\n",
    "$S_b(u_i, u_j) = \\int_{u_i}^{u_j}\\, \\int_{0}^{t_0} S_1(v, t)\\, dt+ \\int_{t_0}^\\infty S_2(v, t)\\,dt dv$"
   ]
  }
 ],
 "metadata": {
  "kernelspec": {
   "display_name": "Python 3 (ipykernel)",
   "language": "python",
   "name": "python3"
  },
  "language_info": {
   "codemirror_mode": {
    "name": "ipython",
    "version": 3
   },
   "file_extension": ".py",
   "mimetype": "text/x-python",
   "name": "python",
   "nbconvert_exporter": "python",
   "pygments_lexer": "ipython3",
   "version": "3.12.10"
  }
 },
 "nbformat": 4,
 "nbformat_minor": 5
}
